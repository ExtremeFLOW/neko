{
 "cells": [
  {
   "cell_type": "markdown",
   "id": "c0f1cb54-4287-4256-9eb4-92deb0acc9f1",
   "metadata": {},
   "source": [
    "# Rayleigh-Benard convection\n",
    "\n",
    "In this tutorial we show how to set up a Rayleigh-Benard convection (RBC) simulation from scratch. The examples folder contains this set up and we hope that this tutorial can deepen the understanding of the workflow."
   ]
  },
  {
   "cell_type": "code",
   "execution_count": 1,
   "id": "6d07a5ad-d4b7-4aec-9ef1-ea06062f9085",
   "metadata": {},
   "outputs": [],
   "source": [
    "import json\n",
    "import subprocess\n",
    "NEKO_PATH=\"/home/adperezm/software/neko\""
   ]
  },
  {
   "cell_type": "markdown",
   "id": "585687e2-15fe-4322-8735-c544af31e945",
   "metadata": {},
   "source": [
    "## Create a mesh\n",
    "\n",
    "For this example we will create a box with origin in 0 and length 1 in all directions. This procedure can be easily done with the genmeshbox script compiled with neko.\n",
    "\n",
    "The script takes the start and end points of the cube in each of the directions, the number of elements and information on wether the boundaries of the box will be periodic. In this tutorial we use the python subprocess module to execute shell. You can observe how it is done and adapt it to your needs."
   ]
  },
  {
   "cell_type": "code",
   "execution_count": 2,
   "id": "3186e5ea-695b-4716-9234-46aa26b9934f",
   "metadata": {},
   "outputs": [],
   "source": [
    "lx = 1\n",
    "ly = 1\n",
    "lz = 1\n",
    "nelv_x = 8\n",
    "nelv_y = 8\n",
    "nelv_z = 8\n",
    "periodic_x = '.false.'\n",
    "periodic_y = '.false.'\n",
    "periodic_z = '.false.'\n",
    "command = f\"{NEKO_PATH}/contrib/genmeshbox/genmeshbox {0} {lx} {0} {ly} {0} {lz} {nelv_x} {nelv_y} {nelv_z} {periodic_x} {periodic_y} {periodic_z}\""
   ]
  },
  {
   "cell_type": "code",
   "execution_count": 3,
   "id": "51289d6b-fd01-46fb-828c-7442db7b3ea5",
   "metadata": {},
   "outputs": [
    {
     "name": "stdout",
     "output_type": "stream",
     "text": [
      " \n",
      "    _  __  ____  __ __  ____ \n",
      "   / |/ / / __/ / //_/ / __ \\\n",
      "  /    / / _/  / ,<   / /_/ /\n",
      " /_/|_/ /___/ /_/|_|  \\____/ \n",
      " \n",
      " (version: 0.8.99)\n",
      " (build: 2024-07-29 on x86_64-pc-linux-gnu using gnu)\n",
      " \n",
      " Writing data as a binary Neko file box.nmsh\n",
      " Done\n",
      "\n"
     ]
    }
   ],
   "source": [
    "process = subprocess.run(command, capture_output=True, shell=True)\n",
    "print(process.stdout.decode())"
   ]
  },
  {
   "cell_type": "markdown",
   "id": "a7b83f4f-3b9b-4488-9e1b-d70622957ae5",
   "metadata": {},
   "source": [
    "Great! now you have created a box mesh that can be used for simulations of RBC or any other case."
   ]
  },
  {
   "cell_type": "markdown",
   "id": "cebde813-f000-48ef-8fe6-40aa217093c5",
   "metadata": {},
   "source": [
    "## Create a case file\n",
    "\n",
    "The case file contains all the information needed to execute a Neko simulation. It is a json file which of course means that it can be created from a simple directory. We will do so now, going through the important parts in the creation. Detailed information on what are the options can be found [here](https://neko.cfd/docs/develop/dd/d33/case-file.html).\n",
    "\n",
    "We start by creating an empty directory with the casefile version."
   ]
  },
  {
   "cell_type": "code",
   "execution_count": 4,
   "id": "3f67355d-dcfd-40a6-9489-65a61d4a66b9",
   "metadata": {},
   "outputs": [],
   "source": [
    "case_file = {'version' : 1.0}\n",
    "case_file['case'] = {}"
   ]
  },
  {
   "cell_type": "markdown",
   "id": "a0021723-8a62-4971-8267-400ef1bf77d4",
   "metadata": {},
   "source": [
    "Now to the important parts!\n",
    "\n",
    "First we can add general information about the case we want to run. We start by adding the mesh that we just created. The name of the file can be seen in the output above! Then we add some parameters that will affect every subcomponent of the simulation, as the time to run and the timestep."
   ]
  },
  {
   "cell_type": "code",
   "execution_count": 5,
   "id": "1f81672c-7c3c-4bd6-9e62-c8022c1bb8b0",
   "metadata": {},
   "outputs": [],
   "source": [
    "case_file['case']['mesh_file'] = 'box.nmsh'\n",
    "case_file['case']['end_time'] = 50\n",
    "case_file['case']['timestep'] = 5e-3"
   ]
  },
  {
   "cell_type": "markdown",
   "id": "b7cf6178-7b57-40b6-98b0-a65ef56b34f3",
   "metadata": {},
   "source": [
    "### Numerics\n",
    "\n",
    "On each Neko simulation, we must specify a numerics keyword that references the order in space and time that used in the discretization of the equations to integrate. This information is relevant casewise, as all components of the simulations are affected.\n",
    "\n",
    "Here we will simply create a subdirectory that we will add to the case file. We are interested in space order 7 and time order 3. We therefore perform dealiasing in the non linear term."
   ]
  },
  {
   "cell_type": "code",
   "execution_count": 6,
   "id": "ee5bee25-e1a1-4449-aadc-2d52597639f5",
   "metadata": {},
   "outputs": [],
   "source": [
    "numerics = {'time_order': 3, 'polynomial_order' : 7, 'dealias' : 'true'}\n",
    "case_file['numerics'] = numerics"
   ]
  },
  {
   "cell_type": "markdown",
   "id": "4791daae-83bd-4c31-bb05-6419bb864f1d",
   "metadata": {},
   "source": [
    "### Fluid\n",
    "\n",
    "The fluid sub-dictionary contains all the information related to the fluid solver, that is, the section of the code that time integrates the momentum equation of Navier-Stokes. This is very likely where most of the information regarding your run will go, so please remember to check all the options  [here](https://neko.cfd/docs/develop/dd/d33/case-file.html).\n",
    "\n",
    "We start by creating a subdictionary that will contain all the relevant information and set the fluid scheme, which currently in Neko is only the PnPn formulation of navier stokes.\n",
    "\n",
    "Note that the momentum equation has the following form with the chosen non dimensionalization:\n",
    "\n",
    "$$ \\frac{\\partial{\\tilde{u}_i}}{\\partial{\\tilde{t}}} +\\tilde{u}_j \\frac{\\partial{\\tilde{u}_i}}{\\partial{\\tilde{x}_j}} = - \\frac{\\partial{\\tilde{p}}}{\\partial{\\tilde{x}_i}} + \\sqrt{\\frac{Pr}{Ra}} \\frac{\\partial^2{\\tilde{u}_i}}{\\partial{\\tilde{x}_j^2}} + \\tilde{T}\\delta_{i3}$$"
   ]
  },
  {
   "cell_type": "code",
   "execution_count": 7,
   "id": "9b02b861-4938-4148-96a7-48408130f99e",
   "metadata": {},
   "outputs": [],
   "source": [
    "case_file['fluid'] = {}\n",
    "case_file['fluid']['scheme'] = 'pnpn'"
   ]
  },
  {
   "cell_type": "markdown",
   "id": "59ce6ece-8c42-4afe-b037-b56f9e923947",
   "metadata": {},
   "source": [
    "#### Fluid properties\n",
    "\n",
    "The properties of the fluid are necesary in the NS equations. In typical cases, it is enough to provide the density and the dynamic viscocity. For this particular case, we will use as input parameters the Rayleigh and Prandlt numbers and calculate the viscocity from there. "
   ]
  },
  {
   "cell_type": "code",
   "execution_count": 8,
   "id": "bd8b1da0-049f-4700-835a-513aa51881a8",
   "metadata": {},
   "outputs": [],
   "source": [
    "case_file['fluid']['Ra'] = 1e6\n",
    "case_file['fluid']['Pr'] = 1.0"
   ]
  },
  {
   "cell_type": "markdown",
   "id": "13f9b1d4-e872-478a-9c8c-8ea90c1e7d9c",
   "metadata": {},
   "source": [
    "Note that neko allows us to not set the typical parameters in the case file, but by doing this, we are required to provide a user routine that calculates the density and the dynamic viscocity. We will show that in the subsequent sections."
   ]
  },
  {
   "cell_type": "markdown",
   "id": "b415e53d-4556-4c8b-ab38-69cd235f84d0",
   "metadata": {},
   "source": [
    "#### Boundary and initial conditions\n",
    "\n",
    "For the time integration of a PDE we of course need proper boundary and initial conditions, therefore we start by adding those.\n",
    "\n",
    "In the creation of the mesh, one typically has boundary labels. Here in the casefile, we assign values to said labels. Our box has 6 boundary faces. Face 1-2 are normal to x, 3-4 are normal to y and 5-6 are normal to z. For the velocity in RBC, we will set those to be walls, replicating an experimental convection cell. We can do this easily by setting the following:"
   ]
  },
  {
   "cell_type": "code",
   "execution_count": 9,
   "id": "a3a4350b-16d8-4be8-bd19-8f7f89a06edd",
   "metadata": {},
   "outputs": [],
   "source": [
    "boundary_types = ['w','w','w','w','w','w']\n",
    "case_file['fluid']['boundary_types'] = boundary_types"
   ]
  },
  {
   "cell_type": "markdown",
   "id": "1abca7c9-29bd-455f-9c72-85a58597efa5",
   "metadata": {},
   "source": [
    "Note that we set the 6 boundaries to be walls by assigning the proper string to the list index corresponing to each boundary.\n",
    "\n",
    "Now we set the initial condition. We want the velocity to be zero everywhere, as RBC is a bouyancy driven case. To set this, we can make use of the predefined uniform condition already programmed in Neko. \n",
    "\n",
    "We want the uniform initial condition, and we set the 3 velocity components to zero, as shown now:"
   ]
  },
  {
   "cell_type": "code",
   "execution_count": 10,
   "id": "6230f415-fc5b-4d86-957a-6b257de78357",
   "metadata": {},
   "outputs": [],
   "source": [
    "initial_condition = {'type' : 'uniform', 'value' : [0, 0, 0] }\n",
    "case_file['fluid']['initial_condition'] = initial_condition"
   ]
  },
  {
   "attachments": {},
   "cell_type": "markdown",
   "id": "528fb8a6-2593-480a-b997-e6224d0e73c1",
   "metadata": {},
   "source": [
    "#### Source terms\n",
    "\n",
    "For this RBC simulation we use the boussinesq approximation for the bouyancy terms. Here we sent that most fluid properties remain constant while the density changes linearly with the temperature. We then introduce the buoyancy effects into the momentum equation through a forcing term and the temperature becomes an active scalar.\n",
    "\n",
    "In Neko, such term is already programmed as the boussinesq source term. Which takes the temperature (what we call scalar in the case file) calculated in the simulation and applies the following operations:  \n",
    "$$ \\rho \\beta (T - T_{ref} )\\cdot g $$\n",
    "\n",
    "Note that in the non normalization of choice, the temperature is added as a forcing term directly, therefore the extra parameters that we choose for the boussinesq term are as follow:"
   ]
  },
  {
   "cell_type": "code",
   "execution_count": 11,
   "id": "fb1f80a1-53bd-4a96-9106-cf2937e26d1f",
   "metadata": {},
   "outputs": [],
   "source": [
    "boussinesq_term = {}\n",
    "boussinesq_term['type'] = 'boussinesq'\n",
    "boussinesq_term['g'] = [0, 0, 1]\n",
    "boussinesq_term['reference_value'] = 0\n",
    "boussinesq_term['beta'] = 1\n",
    "\n",
    "case_file['fluid']['source_terms'] = [boussinesq_term]"
   ]
  },
  {
   "cell_type": "markdown",
   "id": "39812699-7e19-44ff-9947-cff94f836705",
   "metadata": {},
   "source": [
    "#### Solvers\n",
    "\n",
    "In the time integration of navier stokes with the pnpn formulation, we must use iterative solvers in two instances: for the velocity and for the pressure.\n",
    "\n",
    "The type of solver and tolerances are set separately for these. We show here how to set it:"
   ]
  },
  {
   "cell_type": "code",
   "execution_count": 12,
   "id": "d4094001-7bb8-4314-ba83-8d935c4620f7",
   "metadata": {},
   "outputs": [],
   "source": [
    "velocity_solver = {'type' : 'cg', 'preconditioner' : 'jacobi', 'projection_space_size' : 5, 'absolute_tolerance' : 1e-6, 'max_iterations' : 800}\n",
    "pressure_solver = {'type' : 'gmres', 'preconditioner' : 'hsmg', 'projection_space_size' : 20, 'absolute_tolerance' : 1e-4, 'max_iterations' : 800}\n",
    "\n",
    "case_file['fluid']['velocity_solver'] = velocity_solver\n",
    "case_file['fluid']['pressure_solver'] = pressure_solver"
   ]
  },
  {
   "cell_type": "markdown",
   "id": "c0d33827-6e26-4d98-86fe-0c89d8211159",
   "metadata": {},
   "source": [
    "#### Sampling\n",
    "\n",
    "The last relevant information to provide is how much we should write fluid fields to disk. We do this by spevifying the following parameters:"
   ]
  },
  {
   "cell_type": "code",
   "execution_count": 13,
   "id": "6bc2f2ef-b418-405f-931f-b983dcc32d59",
   "metadata": {},
   "outputs": [],
   "source": [
    "case_file['fluid']['output_control'] = 'simulationtime'\n",
    "case_file['fluid']['output_value'] = 1"
   ]
  },
  {
   "attachments": {},
   "cell_type": "markdown",
   "id": "d9962929-eb43-400b-9f83-c9dd2490ed01",
   "metadata": {},
   "source": [
    "### Scalar\n",
    "\n",
    "For RBC, we need to also solve a transport equation for the Temperature, which becomes coupled with the momentum equation by the afore mentioned forcing term.\n",
    "\n",
    "The non dimensionalization that we will use is the following:\n",
    "\n",
    "$$ \\frac{\\partial{\\tilde{T}}}{\\partial{\\tilde{t}}} +\\tilde{u}_j \\frac{\\partial{\\tilde{T}}}{\\partial{\\tilde{x}_j}} = \\frac{1}{\\sqrt{RaPr}} \\frac{\\partial^2{\\tilde{T}}}{\\partial{\\tilde{x}_j^2}}$$\n",
    "\n",
    "Once again we start by creating an empty dictionary. Here we do not need to set a scheme, no coupled equation with pressure is to be solved."
   ]
  },
  {
   "cell_type": "code",
   "execution_count": 14,
   "id": "422d1f75-55f8-454a-9834-1818537c8138",
   "metadata": {},
   "outputs": [],
   "source": [
    "case_file['scalar'] = {}"
   ]
  },
  {
   "cell_type": "markdown",
   "id": "c9ba4ce6-8be3-4923-a146-e0f9bec65089",
   "metadata": {},
   "source": [
    "#### Fluid properties\n",
    "\n",
    "In this case we observe that for the non dimensionalization we also need Ra and Pr, which have been previously given in the fluid section. Therefore we do not need to add more information in the scalar, as we will calculate the relevant parameters in the user module. Please read the documentation on the casefile to see typically needed information."
   ]
  },
  {
   "cell_type": "markdown",
   "id": "047ca790-a87d-4170-b457-cafb2bea2e53",
   "metadata": {},
   "source": [
    "#### Boundary and initial conditions\n",
    "\n",
    "For this case, we are integrating a PDE so we still need boundary and initial coniditons. In RBC, the top and bottom walls are cooled and heated, respectively, while the sidewalls are adiabatic.\n",
    "\n",
    "In practice, we set the top and bottom walls with Dirichlet conditions for the temperature, i.e., keeping the temperature constant. While for the side we need Neumman conditions setting the normal derivative of the temperature to zero. In Spectral element methods, the homogeneous Neumman condition is implied in the formulation. Because of this, and following the same approach as before, we set:"
   ]
  },
  {
   "cell_type": "code",
   "execution_count": 15,
   "id": "2b46c000-abe0-43aa-874a-df9a360222bd",
   "metadata": {},
   "outputs": [],
   "source": [
    "boundary_types = ['','','','','d=1','d=0']\n",
    "case_file['scalar']['boundary_types'] = boundary_types"
   ]
  },
  {
   "cell_type": "markdown",
   "id": "2559ae72-bee7-4035-b279-35db223f4d89",
   "metadata": {},
   "source": [
    "Here, by doing nothing, we set homogenous Newmann conditions on the sides and we set the temperature at the lower wall to 1 and upper wall to 0.\n",
    "\n",
    "For the initial condition we will include some perturbation in the temperature to trigger convection. We will define this in the user module, therefore we can use the following input: "
   ]
  },
  {
   "cell_type": "code",
   "execution_count": 16,
   "id": "ecb07575-6d37-4a18-ab62-cf7e5763128f",
   "metadata": {},
   "outputs": [],
   "source": [
    "initial_condition = {'type' : 'user'}\n",
    "case_file['scalar']['initial_condition'] = initial_condition"
   ]
  },
  {
   "cell_type": "markdown",
   "id": "7abfb075-7dd7-4a7e-9e5e-978b9ee29030",
   "metadata": {},
   "source": [
    "#### Solvers\n",
    "\n",
    "For the scalar equations, we use the same solver configuration that is set for the velocity. Therefore no input is needed here."
   ]
  },
  {
   "cell_type": "markdown",
   "id": "b9793aca-51bf-46db-901d-162ba40ce34e",
   "metadata": {},
   "source": [
    "### Closing remarks!\n",
    "\n",
    "You are set! Now simply write the case file to disk!"
   ]
  },
  {
   "cell_type": "code",
   "execution_count": 17,
   "id": "24795ecf-cc6a-4a94-b9a4-8961b379d565",
   "metadata": {},
   "outputs": [],
   "source": [
    "with open('rayleigh.case', 'w') as file:\n",
    "    file.write(json.dumps(case_file, indent=4))"
   ]
  },
  {
   "cell_type": "markdown",
   "id": "a3613f72-d533-42af-8cbd-bbc77a9f7d35",
   "metadata": {},
   "source": [
    "## User module\n",
    "\n",
    "In the user module you will be able to set any function that in the case file you set to be user given. In our case there are two instances in which this is true: \n",
    "\n",
    "- The material properties.\n",
    "- The scalar initial condition.\n",
    "\n",
    "Unfortunately, since this is fortran code, we can not interface nicely in this tutorial. However please refer to the provided rayleigh.f90 file.\n",
    "\n",
    "\n",
    "### Setting the material properties\n",
    "\n",
    "In the file, we use one subroutine to set the material properties (Since as mentioned before, we did not provide Re or mu directly)\n",
    "\n",
    "Note that first we read the provided fluid properties (Ra, Pr). These are not used directly by the code, we need to operate with them to find the relevant mu and lamba that correspond to the non dimensionalization that we have cited here before. \n",
    "\n",
    "```fortran\n",
    " subroutine set_material_properties(t, tstep, rho, mu, cp, lambda, params)\n",
    "    real(kind=rp), intent(in) :: t\n",
    "    integer, intent(in) :: tstep\n",
    "    real(kind=rp), intent(inout) :: rho, mu, cp, lambda\n",
    "    type(json_file), intent(inout) :: params\n",
    "    real(kind=rp) :: Re\n",
    "\n",
    "    call json_get(params, \"case.fluid.Ra\", Ra)\n",
    "    call json_get(params, \"case.fluid.Pr\", Pr)\n",
    "    \n",
    "    Re = sqrt(Ra / Pr)\n",
    "    mu = 1.0_rp / Re\n",
    "    lambda = mu / Pr\n",
    "    rho = 1.0_rp\n",
    "    cp = 1.0_rp\n",
    "    \n",
    "  end subroutine set_material_properties\n",
    "```\n",
    "\n",
    "### Setting the scalar initial coniditons\n",
    "\n",
    "We need one subroutine to set the initial conditions, since this is what we indicated in the case file.\n",
    "\n",
    "Notice that there are 3 distinct moments in the routine:\n",
    "\n",
    "- We initially set the temperature to vary linearly from 1 to 0 over the domain.\n",
    "- We introduce some perturbations to the temperature. In this case we superimpose sine waves at different frequencies.\n",
    "- We copy the information to the relevant device if there is any.\n",
    "\n",
    "```fortran\n",
    "  subroutine set_ic(s, params)\n",
    "    type(field_t), intent(inout) :: s\n",
    "    type(json_file), intent(inout) :: params\n",
    "    integer :: i, e, k, j\n",
    "    real(kind=rp) :: rand, x, y, z, pert, p1, p2, p3, p4\n",
    "\n",
    "    do i = 1, s%dof%size()\n",
    "       s%x(i,1,1,1) = 1-s%dof%z(i,1,1,1)\n",
    "    end do\n",
    "\n",
    "    do e = 1, s%msh%nelv\n",
    "       do k = 2,s%Xh%lx-1\n",
    "          do j = 2,s%Xh%lx-1\n",
    "             do i = 2,s%Xh%lx-1\n",
    "\n",
    "                rand = 1_rp\n",
    "                x = s%dof%x(i,j,k,e)\n",
    "                y = s%dof%y(i,j,k,e)\n",
    "                z = s%dof%z(i,j,k,e)\n",
    "                p1 = 1_rp*sin(3_rp*pi*x)\n",
    "                p2 = 0.6_rp*sin(7_rp*pi*x)\n",
    "                p3 = 0.3_rp*sin(24_rp*pi*x)\n",
    "                p4 = 0.1_rp*sin(5_rp*pi*x)\n",
    "                pert = (p1 + p2 + p3 + p4)\n",
    "                s%x(i,j,k,e) = 1_rp-z + 0.01_rp*pert*rand\n",
    "\n",
    "            end do\n",
    "          end do\n",
    "       end do\n",
    "    end do\n",
    "\n",
    "    if ((NEKO_BCKND_DEVICE .eq. 1) .or. (NEKO_BCKND_HIP .eq. 1) &\n",
    "       .or. (NEKO_BCKND_OPENCL .eq. 1)) then\n",
    "       call device_memcpy(s%x, s%x_d, s%dof%size(), &\n",
    "                          HOST_TO_DEVICE, sync=.false.)\n",
    "    end if\n",
    "\n",
    "\n",
    "  end subroutine set_ic\n",
    "\n",
    "\n",
    "```\n",
    "\n",
    "### Compiling\n",
    "\n",
    "When we use functions in the user module, it is not possible to use directly the neko executable obtained when it was compiled. We now must compile the user module and use neko with it. This is done with the makeneko script, and we show now how that can be done in practice."
   ]
  },
  {
   "cell_type": "code",
   "execution_count": null,
   "id": "3ff56be5-e4b4-4ee3-99ec-5773935fa29a",
   "metadata": {},
   "outputs": [],
   "source": [
    "command = f\"{NEKO_PATH}/bin/makeneko rayleigh.f90\""
   ]
  },
  {
   "cell_type": "code",
   "execution_count": null,
   "id": "0a42c4c1-1430-459f-ab52-5292ae0ab703",
   "metadata": {},
   "outputs": [],
   "source": [
    "process = subprocess.run(command, capture_output=True, shell=True)\n",
    "print(process.stdout.decode())"
   ]
  },
  {
   "cell_type": "code",
   "execution_count": null,
   "id": "0141e76c-f027-4d00-a219-739eafd174b9",
   "metadata": {},
   "outputs": [],
   "source": []
  },
  {
   "cell_type": "code",
   "execution_count": null,
   "id": "e8a8851a-b868-410b-8353-7b9ea7eed1ff",
   "metadata": {},
   "outputs": [],
   "source": []
  },
  {
   "cell_type": "code",
   "execution_count": null,
   "id": "c7ff3eb9-3c0c-4525-a670-de74439e7272",
   "metadata": {},
   "outputs": [],
   "source": []
  },
  {
   "cell_type": "code",
   "execution_count": null,
   "id": "920cd4cb-a242-47de-9888-2047432b769c",
   "metadata": {},
   "outputs": [],
   "source": []
  },
  {
   "cell_type": "code",
   "execution_count": null,
   "id": "5afdec95-deca-4a48-a519-824ac55d49fa",
   "metadata": {},
   "outputs": [],
   "source": []
  },
  {
   "cell_type": "code",
   "execution_count": null,
   "id": "0edd5a1d-7098-4fbe-bbf5-2b3c2ded7ef0",
   "metadata": {},
   "outputs": [],
   "source": []
  },
  {
   "cell_type": "code",
   "execution_count": null,
   "id": "3ebdff36-ee57-47d5-820a-b97eb8a39b1c",
   "metadata": {},
   "outputs": [],
   "source": []
  },
  {
   "cell_type": "code",
   "execution_count": null,
   "id": "89a7b2ab-1b45-445a-aa0d-9bf298eb7d4f",
   "metadata": {},
   "outputs": [],
   "source": []
  },
  {
   "cell_type": "code",
   "execution_count": null,
   "id": "ca0ab4cd-de10-49d7-8783-714e422df874",
   "metadata": {},
   "outputs": [],
   "source": []
  },
  {
   "cell_type": "code",
   "execution_count": null,
   "id": "24b914ae-71c8-4f4a-bfd3-2d97336a7f4e",
   "metadata": {},
   "outputs": [],
   "source": []
  },
  {
   "cell_type": "code",
   "execution_count": null,
   "id": "5f1ac8e2-af88-42d6-8928-d0b3f5044288",
   "metadata": {},
   "outputs": [],
   "source": []
  }
 ],
 "metadata": {
  "kernelspec": {
   "display_name": "Python 3 (ipykernel)",
   "language": "python",
   "name": "python3"
  },
  "language_info": {
   "codemirror_mode": {
    "name": "ipython",
    "version": 3
   },
   "file_extension": ".py",
   "mimetype": "text/x-python",
   "name": "python",
   "nbconvert_exporter": "python",
   "pygments_lexer": "ipython3",
   "version": "3.10.14"
  }
 },
 "nbformat": 4,
 "nbformat_minor": 5
}
